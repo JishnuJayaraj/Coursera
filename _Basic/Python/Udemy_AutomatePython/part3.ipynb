{
 "nbformat": 4,
 "nbformat_minor": 2,
 "metadata": {
  "language_info": {
   "name": "python",
   "codemirror_mode": {
    "name": "ipython",
    "version": 3
   }
  },
  "orig_nbformat": 2,
  "file_extension": ".py",
  "mimetype": "text/x-python",
  "name": "python",
  "npconvert_exporter": "python",
  "pygments_lexer": "ipython3",
  "version": 3
 },
 "cells": [
  {
   "cell_type": "code",
   "execution_count": 12,
   "metadata": {},
   "outputs": [
    {
     "data": {
      "text/plain": "'.'"
     },
     "execution_count": 12,
     "metadata": {},
     "output_type": "execute_result"
    }
   ],
   "source": [
    "#### >>>>>>>>>>>>>>>> FILES  <<<<<<<<<<<<<<<<<<<###\n",
    "\n",
    "import os\n",
    "\n",
    "os.path.join('folder1','subfolder')\n",
    "os.getcwd()\n",
    "os.chdir('.')\n",
    "\n",
    "# change to abspath, from current working directory\n",
    "os.path.abspath('new')\n",
    "\n",
    "os.path.dirname('.')\n",
    "os.path.basename('.')\n",
    "\n",
    "# delete files and folders\n",
    "\n",
    "# walk through directories"
   ]
  },
  {
   "cell_type": "code",
   "execution_count": 19,
   "metadata": {},
   "outputs": [
    {
     "ename": "Exception",
     "evalue": "Nice dumbass",
     "output_type": "error",
     "traceback": [
      "\u001b[1;31m---------------------------------------------------------------------------\u001b[0m",
      "\u001b[1;31mException\u001b[0m                                 Traceback (most recent call last)",
      "\u001b[1;32m<ipython-input-19-f1a7f994ccab>\u001b[0m in \u001b[0;36m<module>\u001b[1;34m\u001b[0m\n\u001b[0;32m     29\u001b[0m \u001b[1;33m\u001b[0m\u001b[0m\n\u001b[0;32m     30\u001b[0m \u001b[1;31m#### >>>>>>>>>>>>>>>>>>>>>>>>>>> RAISE AND ASSERT <<<<<<<<<<<<<<<<<<<<<< ######\u001b[0m\u001b[1;33m\u001b[0m\u001b[1;33m\u001b[0m\u001b[1;33m\u001b[0m\u001b[0m\n\u001b[1;32m---> 31\u001b[1;33m \u001b[1;32mraise\u001b[0m \u001b[0mException\u001b[0m \u001b[1;33m(\u001b[0m\u001b[1;34m'Nice dumbass'\u001b[0m\u001b[1;33m)\u001b[0m\u001b[1;33m\u001b[0m\u001b[1;33m\u001b[0m\u001b[0m\n\u001b[0m",
      "\u001b[1;31mException\u001b[0m: Nice dumbass"
     ]
    }
   ],
   "source": [
    "# opening\n",
    "file = open('C:\\\\Users\\\\MODEL\\\\Desktop\\\\Git\\\\Pluralsight\\\\Pluralsight\\\\Python\\\\Udemy_AutomatePython\\\\simpletextDocument.txt')\n",
    "\n",
    "file.read()\n",
    "\n",
    "\n",
    "# to save content, a single string\n",
    "content = file.read()\n",
    "\n",
    "# if you want list of string\n",
    "content2 = file.readlines()\n",
    "#closing\n",
    "file.close()\n",
    "\n",
    "\n",
    "# Writing to file: a appemd, w over writes\n",
    "file2 = open('C:\\\\Users\\\\MODEL\\\\Desktop\\\\Git\\\\Pluralsight\\\\Pluralsight\\\\Python\\\\Udemy_AutomatePython\\\\simpletextDocument2.txt','a')\n",
    "file2.write('writing from Python')\n",
    "file2.close()\n",
    "\n",
    "\n",
    "# copy and move files\n",
    "\n",
    "import shutil\n",
    "\n",
    "\n",
    "\n",
    "\n",
    "## DEBUGGING\n",
    "#### >>>>>>>>>>>>>>>>>>>>>>>>>>> RAISE AND ASSERT <<<<<<<<<<<<<<<<<<<<<< ######\n",
    "\n",
    "# raise a errror\n",
    "raise Exception ('Nice dumbass')\n",
    "\n",
    "# get the text from error\n",
    "import traceback\n",
    "\n",
    "# can also log the error info to a log file\n",
    "\n",
    "try:\n",
    "    raise Exception ('boobyland not found')\n",
    "\n",
    "except:\n",
    "    errorFile = open.('error_log.txt','a')\n",
    "    errorFile.write(traceback.format_exc())\n",
    "    errorFile.close()\n",
    "    print('Info written to error log file')\n",
    "\n",
    "\n",
    "\n",
    "\n",
    "# assert    sanity check statement of variables\n",
    "\n",
    "assert \n",
    "\n",
    "\n",
    "\n",
    "# logging, instead of print\n",
    "import logging\n",
    "# debug-info-warning-error-critical\n",
    "\n"
   ]
  },
  {
   "cell_type": "code",
   "execution_count": null,
   "metadata": {},
   "outputs": [],
   "source": []
  }
 ]
}