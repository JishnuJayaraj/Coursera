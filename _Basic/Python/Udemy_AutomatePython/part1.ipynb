{
 "nbformat": 4,
 "nbformat_minor": 2,
 "metadata": {
  "language_info": {
   "name": "python",
   "codemirror_mode": {
    "name": "ipython",
    "version": 3
   }
  },
  "orig_nbformat": 2,
  "file_extension": ".py",
  "mimetype": "text/x-python",
  "name": "python",
  "npconvert_exporter": "python",
  "pygments_lexer": "ipython3",
  "version": 3
 },
 "cells": [
  {
   "cell_type": "markdown",
   "execution_count": null,
   "metadata": {},
   "outputs": [],
   "source": [
    "We have int, float and strings"
   ]
  },
  {
   "cell_type": "code",
   "execution_count": null,
   "metadata": {},
   "outputs": [],
   "source": [
    "# Comment sample\n",
    "print('Enter your name and number')\n",
    "name = input()\n",
    "num = input()\n",
    "print('Hello ' + name + str(int(num)*'!') )\n",
    "# returns type of data\n",
    "type(num)"
   ]
  },
  {
   "cell_type": "markdown",
   "metadata": {},
   "source": [
    "Loops\n",
    "\n",
    " range(x)\n",
    " range(x,y)\n",
    " range(x,t,y)"
   ]
  },
  {
   "cell_type": "code",
   "execution_count": 62,
   "metadata": {},
   "outputs": [
    {
     "name": "stdout",
     "output_type": "stream",
     "text": "0\n1\n2\n0\n1\n2\n3\npen\npencil\nknife\nM16\nfunctionvariable\n"
    }
   ],
   "source": [
    "for i in range(3):\n",
    " print(i)\n",
    "\n",
    "listA = list(range(4))\n",
    "for i in listA:\n",
    "    print(i)\n",
    "\n",
    "listB = ('pen','pencil','knife','M16' )\n",
    "for j in listB:   # if u need both index and value>> j in range(len(listB))..... at str(j) is list[j] \n",
    "    print(j)\n",
    "\n",
    "def func1(parm):\n",
    "    print('function' + parm)\n",
    "\n",
    "func1('variable')"
   ]
  },
  {
   "cell_type": "markdown",
   "metadata": {},
   "source": [
    "Built in functions :\n",
    "print, len, \n",
    "\n",
    "Standard library modules :\n",
    "math, random\n",
    "\n",
    "3rd party modules: numpy, matplotlib (use pip installer)"
   ]
  },
  {
   "cell_type": "code",
   "execution_count": 21,
   "metadata": {},
   "outputs": [
    {
     "data": {
      "text/plain": "3"
     },
     "execution_count": 21,
     "metadata": {},
     "output_type": "execute_result"
    }
   ],
   "source": [
    "import random\n",
    "random.randint(1,10)\n",
    "# OR\n",
    "from random import randrange\n",
    "randrange(1,10)"
   ]
  },
  {
   "cell_type": "code",
   "execution_count": 31,
   "metadata": {},
   "outputs": [
    {
     "name": "stdout",
     "output_type": "stream",
     "text": "jishnu\njayaraj\njishnujayaraj\njishnu jayaraj\njishnu===jayaraj\n"
    }
   ],
   "source": [
    "print('jishnu')\n",
    "print('jayaraj')\n",
    "print('jishnu', end = '')\n",
    "print('jayaraj')\n",
    "\n",
    "#and\n",
    "print('jishnu','jayaraj')\n",
    "print('jishnu','jayaraj', sep = '===')"
   ]
  },
  {
   "cell_type": "markdown",
   "metadata": {},
   "source": [
    "Input validation using TRY EXCEPT"
   ]
  },
  {
   "cell_type": "code",
   "execution_count": 33,
   "metadata": {},
   "outputs": [
    {
     "name": "stdout",
     "output_type": "stream",
     "text": "How many beers you want\nEnter a number you dumbass\n"
    }
   ],
   "source": [
    "print('How many beers you want')\n",
    "num = input()\n",
    "\n",
    "try:\n",
    "    if int(num) >= 2:\n",
    "        print('Too much for you')\n",
    "\n",
    "    else:\n",
    "        print('right away sir')\n",
    "\n",
    "# if you enter a string eg: six, => valueError\n",
    "except:                      # except valueError:\n",
    "    print('Enter a number you dumbass')"
   ]
  },
  {
   "cell_type": "code",
   "execution_count": 92,
   "metadata": {},
   "outputs": [
    {
     "name": "stdout",
     "output_type": "stream",
     "text": "puss\n['cat', 'bat']\n['big', 'boobs']\n5\n['dog', 'bat', 'puss', 'big', 'boobs']\nname\ncolor\ntype\n"
    },
    {
     "data": {
      "text/plain": "[{'name': 'sofi', 'age': '2', 'color': 'black'},\n {'name': 'pofi', 'age': '5', 'color': 'white'},\n {'name': 'mittu', 'age': '2', 'color': 'brown'},\n {'name': 'lombi', 'age': '1', 'color': 'cream'}]"
     },
     "execution_count": 92,
     "metadata": {},
     "output_type": "execute_result"
    }
   ],
   "source": [
    "### >>>>>>>>>>>>>  LISTS:  set of orderes items  <<<<<<<<<<<< ###\n",
    "list1 = ['dog', 'cat', 'bat', 'puss']\n",
    "print(list1[-1])   # index\n",
    "print(list1[1:3])  # slice\n",
    "del list1[1]\n",
    "\n",
    "list2 = [['a', 'b'],['c','d']]\n",
    "list2[0][0]\n",
    "list2[0:2] = ['big', 'boobs']\n",
    "print(list2[:2][0:])\n",
    "\n",
    "\n",
    "# Treat them as normal variable\n",
    "list3= list1 + list2\n",
    "print(len(list3))\n",
    "print(list3)\n",
    "'big' in list3\n",
    "\n",
    "# multiple assignments\n",
    "              #    \"\\\" new line escae character\n",
    "JishList = ['jishnu','flying',\\\n",
    "'black']\n",
    "name, superPower, favColor = JishList\n",
    "\n",
    "\n",
    "## Methodss: used on value, similar to funcion, >>list methods\n",
    "JishList.index('black')  # returns index of this variable\n",
    "JishList.append('Girls')\n",
    "JishList.insert(1,'Chicken')\n",
    "JishList.sort(reverse=True)\n",
    "\n",
    "# \"Strings are immutable but lists are mutable\"\n",
    "# \" Copying lists gives reference to the new variable\" >> all mutable variables are referenced only, to save memory for large data\n",
    "# If you want to deep copy, import copy, newlist = copy.deepcopy(oldList)\n",
    "\n",
    "\n",
    "\n",
    "\n",
    "\n",
    "#### >>>>>>>>>>>>>>>>> DICTIONARIES   <<<<<<<<<<<<<<<<<<<<< ###\n",
    "\n",
    "# key : value pairs\n",
    "myDod = {'name' : 'Blacky', 'color':'Black', 'type' : 'Germanshipard'}\n",
    "# indexing value from key\n",
    "'My Dogs name is ' + myDod['name']\n",
    "\n",
    "# are unorderd list, order doesnt matter\n",
    "\n",
    "# check if key is there\n",
    "'name' in myDod\n",
    "'food' not in myDod\n",
    "\n",
    "# methods\n",
    "myDod.keys()   # convert to list by : listItem = list(myDod.keys())\n",
    "myDod.values()\n",
    "\n",
    "myDod.items()\n",
    "# can be used in for loop for both\n",
    "for k,v in myDod.items():\n",
    "    print(k)\n",
    "\n",
    "# getting value from dict, and if not present give default value\n",
    "myDod.get('favFoof', 'Fish')\n",
    "\n",
    "# add key-value pair if its not in dictionary\n",
    "message = 'Hello my dear Kuttichatan, How do you do'\n",
    "count = {} # dict of character nad its count\n",
    "\n",
    "for character in message.upper():\n",
    "    count.setdefault(character,0)\n",
    "    count[character] = count[character] + 1\n",
    "\n",
    "\n",
    "import pprint\n",
    "#pprint.pprint(count)\n",
    "\n",
    "\n",
    "\n",
    "\n",
    "\n",
    "### >>>>>>>>>>>>>> DATA STRUCTURES: list of dictionaries <<<<<<<<<<<<<<<<<< ###\n",
    "allCats = []\n",
    "allCats.append({'name':'sofi','age':'2','color':'black'})\n",
    "allCats.append({'name':'pofi','age':'5','color':'white'})\n",
    "allCats.append({'name':'mittu','age':'2','color':'brown'})\n",
    "allCats.append({'name':'lombi','age':'1','color':'cream'})\n",
    "allCats"
   ]
  },
  {
   "cell_type": "code",
   "execution_count": null,
   "metadata": {},
   "outputs": [],
   "source": []
  }
 ]
}